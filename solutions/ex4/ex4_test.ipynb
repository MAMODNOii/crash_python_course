{
 "cells": [
  {
   "cell_type": "markdown",
   "id": "4e2edb43",
   "metadata": {},
   "source": [
    "# Test rational class\n",
    "There are 7 tests of the class below. \\\n",
    "I will test it using ``assert`` module if the results from the class are different from the expected values (either computed by python or by hands), the error messages will be printed out."
   ]
  },
  {
   "cell_type": "code",
   "execution_count": 1,
   "id": "4a4f6d35",
   "metadata": {},
   "outputs": [],
   "source": [
    "%reset -f\n",
    "from rational_class import rational"
   ]
  },
  {
   "cell_type": "code",
   "execution_count": 2,
   "id": "b963ec28",
   "metadata": {},
   "outputs": [],
   "source": [
    "r1 = rational(-1.5)\n",
    "r2 = rational(2.8)"
   ]
  },
  {
   "cell_type": "markdown",
   "id": "f03e5b21",
   "metadata": {},
   "source": [
    "### 0. Check for the precision is in between 0 and 1, and print an error message if the criterion is not reached"
   ]
  },
  {
   "cell_type": "code",
   "execution_count": 3,
   "id": "7d504955",
   "metadata": {},
   "outputs": [
    {
     "name": "stdout",
     "output_type": "stream",
     "text": [
      "Not allow the precision out of the range 0 and 1!\n"
     ]
    }
   ],
   "source": [
    "try: \n",
    "    r0 = rational(3.5,precision=10)\n",
    "except:\n",
    "    print(\"Not allow the precision out of the range 0 and 1!\")"
   ]
  },
  {
   "cell_type": "markdown",
   "id": "508e21fb",
   "metadata": {},
   "source": [
    "### 1. Test the fraction estimation of rational numbers and the sign stored in its numerator"
   ]
  },
  {
   "cell_type": "code",
   "execution_count": 4,
   "id": "aad246ca",
   "metadata": {},
   "outputs": [],
   "source": [
    "assert r1.numerator == -3, \"Failed to estimate the numerator of the fraction from its rational number\"\n",
    "assert r1.denominator == 2, \"Failed to estimate the denominator of the fraction from its rational number\""
   ]
  },
  {
   "cell_type": "markdown",
   "id": "6a622bf6",
   "metadata": {},
   "source": [
    "### 2. Test ``__str__`` and ``__repr__``"
   ]
  },
  {
   "cell_type": "code",
   "execution_count": 5,
   "id": "ea5af2cd",
   "metadata": {},
   "outputs": [],
   "source": [
    "assert str(r1) == '-3/2', \"Failed to test __str__\"\n",
    "assert repr(r2) == 'rational(2.8, precision=1e-05)', \"Failed to test __repr__\""
   ]
  },
  {
   "cell_type": "markdown",
   "id": "e3d9cfc2",
   "metadata": {},
   "source": [
    "### 3. Test ``__int__`` and ``__float__``"
   ]
  },
  {
   "cell_type": "code",
   "execution_count": 6,
   "id": "27b68fdf",
   "metadata": {},
   "outputs": [],
   "source": [
    "assert int(r1) == int(-1.5), \"Failed to test __int__\"\n",
    "assert float(r2) == float(2.8), \"Failed to test __float__\""
   ]
  },
  {
   "cell_type": "markdown",
   "id": "3892cd50",
   "metadata": {},
   "source": [
    "### 4. Test ``__abs__``"
   ]
  },
  {
   "cell_type": "code",
   "execution_count": 7,
   "id": "c5746d75",
   "metadata": {},
   "outputs": [],
   "source": [
    "assert abs(r1) == abs(-1.5), \"Failed to test __abs__\"\n",
    "assert abs(r2) == abs(2.8), \"Failed to test __abs__\""
   ]
  },
  {
   "cell_type": "markdown",
   "id": "0f252f49",
   "metadata": {},
   "source": [
    "### 5. Test arithmetic dundler functions (e.g. ``__add__``, ``__mul__``, ...)"
   ]
  },
  {
   "cell_type": "code",
   "execution_count": 8,
   "id": "9f7966f3",
   "metadata": {},
   "outputs": [],
   "source": [
    "assert str(r1+r2) == '13/10', \"Failed to test __add__\"\n",
    "assert str(r1-r2) == '-43/10', \"Failed to test __sub__\"\n",
    "assert str(r1*r2) == '-21/5', \"Failed to test __mul__\"\n",
    "assert str(r1/r2) == '-15/28', \"Failed to test __truediv__\"\n",
    "assert str(r1**3) == '-27/8', \"Failed to test __pow__\""
   ]
  },
  {
   "cell_type": "markdown",
   "id": "3f4d7e65",
   "metadata": {},
   "source": [
    "### 6. Test comparison operators (e.g. ``__eq__``,``__gt__``, ...)"
   ]
  },
  {
   "cell_type": "code",
   "execution_count": 9,
   "id": "682be3b9",
   "metadata": {},
   "outputs": [],
   "source": [
    "assert (r1 == r2) == False, \"Failed to test  __eq__\"\n",
    "assert (r1 != r2) == True, \"Failed to test  __ne__\"\n",
    "assert (r1 < r2) == True, \"Failed to test  __lt__\"\n",
    "assert (r1 > r2) == False, \"Failed to test  __gt__\"\n",
    "assert (r1 <= r2) == True, \"Failed to test  __le__\"\n",
    "assert (r1 >= r2) == False, \"Failed to test  __ge__\""
   ]
  },
  {
   "cell_type": "code",
   "execution_count": null,
   "id": "88f772e2",
   "metadata": {},
   "outputs": [],
   "source": []
  }
 ],
 "metadata": {
  "kernelspec": {
   "display_name": "Python 3 (ipykernel)",
   "language": "python",
   "name": "python3"
  },
  "language_info": {
   "codemirror_mode": {
    "name": "ipython",
    "version": 3
   },
   "file_extension": ".py",
   "mimetype": "text/x-python",
   "name": "python",
   "nbconvert_exporter": "python",
   "pygments_lexer": "ipython3",
   "version": "3.8.8"
  }
 },
 "nbformat": 4,
 "nbformat_minor": 5
}
